{
 "cells": [
  {
   "cell_type": "code",
   "execution_count": 213,
   "id": "f1ad323a",
   "metadata": {},
   "outputs": [],
   "source": [
    "import pandas as pd\n",
    "import re\n",
    "import nltk\n",
    "from nltk.tokenize import word_tokenize\n",
    "import random\n",
    "nltk.download('punkt_tab')\n"
   ]
  },
  {
   "cell_type": "code",
   "execution_count": 210,
   "id": "09281ac1",
   "metadata": {},
   "outputs": [],
   "source": [
    "class NGram:\n",
    "    \"\"\"\n",
    "    Creates an n-gram Markov representation of a given corpus\n",
    "    \n",
    "    Methods\n",
    "    -----\n",
    "    generate_text(n)\n",
    "    \n",
    "    \"\"\"\n",
    "    def __init__(self, corpus, preprocess=True):\n",
    "        \"\"\"\n",
    "        Parameters\n",
    "        -----\n",
    "        corpus: a list of sentences to be used for training\n",
    "        tokenize: whether the corpus should be preprocessed \n",
    "                  before being used for training (default: true)\n",
    "        \"\"\"\n",
    "        \n",
    "        self.corpus = self._preprocess_text(corpus)\n",
    "        self.trained_n_grams = {}\n",
    "    \n",
    "    def generate_text(self, n, soft_length, starting_text=None):\n",
    "        if not n in self.trained_n_grams.keys():\n",
    "            self._train_n_gram(n)\n",
    "        \n",
    "        curr_state = starting_text.split()[-n:] if starting_text else self._pick_random_start(n)\n",
    "        generated_string = \"\"\n",
    "        generated_string += \" \".join(curr_state[1:]) + \" \"\n",
    "        \n",
    "        in_loop = True\n",
    "        while in_loop:\n",
    "            next_state = None\n",
    "            while next_state is None:\n",
    "                \n",
    "                next_state = self._pick_next_state(curr_state, n)\n",
    "                \n",
    "                if not next_state:\n",
    "                    curr_state = self._pick_random_start(n)\n",
    "                    \n",
    "            curr_state = tuple(list(curr_state[-n+1:]) + next_state)\n",
    "            if not curr_state in self.trained_n_grams[n].keys() or next_state[0] == \"<e>\":\n",
    "                # In this case, special character <e> was encountered\n",
    "                curr_state = self._pick_random_start(n)\n",
    "            else:\n",
    "                generated_string += next_state[0] + \" \"\n",
    "             \n",
    "            if next_state[0] == \"<e>\" and len(generated_string.split()) >= soft_length:\n",
    "                in_loop = False\n",
    "       \n",
    "            \n",
    "        return generated_string.rstrip()\n",
    "            \n",
    "    \n",
    "    def _pick_next_state(self, curr_state, n):\n",
    "        freqs = list(self.trained_n_grams[n][curr_state].values())\n",
    "        candidates = list(self.trained_n_grams[n][curr_state].keys())\n",
    "        probabilities = [freq / sum(freqs) for freq in freqs]\n",
    "        return random.choices(candidates, weights=probabilities)\n",
    "        \n",
    "            \n",
    "    def _pick_random_start(self, n):\n",
    "        start_keys = [key for key in self.trained_n_grams[n].keys() if key[0] == \"<s>\"]\n",
    "        return random.choice(start_keys)\n",
    "        \n",
    "        \n",
    "        \n",
    "    def _preprocess_text(self, corpus):\n",
    "        return [[\"<s>\"] + word_tokenize(text) + [\"<e>\"] for text in corpus]\n",
    "    \n",
    "    def _train_n_gram(self, n):\n",
    "        n_gram = {}\n",
    "        \n",
    "        for tokens in self.corpus:\n",
    "            if len(tokens) <= n:\n",
    "                continue\n",
    "            for i in range(len(tokens) - n):\n",
    "                curr_state = tuple(tokens[i:i + n])\n",
    "                next_state = tokens[i + n]\n",
    "                if curr_state in n_gram.keys() and next_state in n_gram[curr_state].keys():\n",
    "                        n_gram[curr_state][next_state] += 1\n",
    "                else:\n",
    "                    n_gram[curr_state] = {next_state: 1}\n",
    "             \n",
    "                    \n",
    "        self.trained_n_grams[n] = n_gram\n",
    "                \n",
    "                \n"
   ]
  },
  {
   "cell_type": "code",
   "execution_count": 211,
   "id": "f9d29b98",
   "metadata": {},
   "outputs": [],
   "source": [
    "n_gram_model = NGram(corpus)"
   ]
  },
  {
   "cell_type": "code",
   "execution_count": 212,
   "id": "f9a886dd",
   "metadata": {},
   "outputs": [
    {
     "data": {
      "text/plain": [
       "'Attacks are coming thick and fast , primarily from the left , which is the largest auto plant in North America , twice as much as all other carmakers combined .'"
      ]
     },
     "execution_count": 212,
     "metadata": {},
     "output_type": "execute_result"
    }
   ],
   "source": [
    "n_gram_model.generate_text(3, 30)"
   ]
  }
 ],
 "metadata": {
  "kernelspec": {
   "display_name": "Python 3 (ipykernel)",
   "language": "python",
   "name": "python3"
  },
  "language_info": {
   "codemirror_mode": {
    "name": "ipython",
    "version": 3
   },
   "file_extension": ".py",
   "mimetype": "text/x-python",
   "name": "python",
   "nbconvert_exporter": "python",
   "pygments_lexer": "ipython3",
   "version": "3.11.3"
  }
 },
 "nbformat": 4,
 "nbformat_minor": 5
}
